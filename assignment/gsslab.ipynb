{
  "cells": [
    {
      "cell_type": "markdown",
      "metadata": {
        "id": "view-in-github",
        "colab_type": "text"
      },
      "source": [
        "<a href=\"https://colab.research.google.com/github/ruthmelese/eda/blob/main/gss.ipynb\" target=\"_parent\"><img src=\"https://colab.research.google.com/assets/colab-badge.svg\" alt=\"Open In Colab\"/></a>"
      ]
    },
    {
      "cell_type": "markdown",
      "metadata": {
        "id": "hduuISqZEjkP"
      },
      "source": [
        "## EDA LAB\n",
        "\n",
        "The General Social Survey (GSS) is a bi-annual nationally representative survey of Americans, with almost 7000 different questions asked since the survey began in the 1970s. It has straightforward questions about respondents' demographic information, but also questions like \"Does your job regularly require you to perform repetitive or forceful hand movements or involve awkward postures?\" or \"How often do the demands of your job interfere with your family life?\" There are a variety of controversial questions. No matter what you're curious about, there's something interesting in here to check out. The codebook is 904 pages (use CTRL+F to search it).\n",
        "\n",
        "The data and codebook are available at:\n",
        "https://gss.norc.org/us/en/gss/get-the-data.html\n",
        "\n",
        "The datasets are so large that it might make sense to pick the variables you want, and then download just those variables from:\n",
        "https://gssdataexplorer.norc.org/variables/vfilter\n",
        "\n",
        "Here is your task:\n",
        "1. Download a small (5-15) set of variables of interest.\n",
        "2. Write a short description of the data you chose, and why. (1 page)\n",
        "\n",
        "The topic of immigration has been a major point of discussion in recent U.S. politics with shifting policies and public sentiment influencing debates on work permits, crime, education, and employment. The evolving political landscape has sparked my interest about how opinions on immigration change over time. Discussions about crime and border security have been influenced by partisan narratives and the media has shaped public perceptions on this topic. I picked these datasets because I wanted to explore whether opinions on immigration issues have changed over time due to political influence and economic shifts.\n",
        "\n",
        "3. Load the data using Pandas. Clean them up for EDA. Do this in a notebook with comments or markdown chunks explaining your choices.\n",
        "4. Produce some numeric summaries and visualizations. (1-3 pages)\n",
        "5. Describe your findings in 1-2 pages.\n",
        "6. If you have other content that you think absolutely must be included, you can include it in an appendix of any length.\n",
        "\n",
        "For example, you might want to look at how aspects of a person's childhood family are correlated or not with their career or family choices as an adult. Or how political or religious affiliations correlate with drug use or sexual practices. It's an extremely wide-ranging survey.\n",
        "\n",
        "Feel free to work with other people in groups, and ask questions!"
      ]
    },
    {
      "cell_type": "code",
      "source": [
        "import pandas as pd\n",
        "import numpy as np\n",
        "import matplotlib.pyplot as plt\n",
        "import seaborn as sns"
      ],
      "metadata": {
        "id": "lDrzs5FeEmCH"
      },
      "execution_count": 1,
      "outputs": []
    },
    {
      "cell_type": "code",
      "source": [
        "from google.colab import files\n",
        "uploaded = files.upload()"
      ],
      "metadata": {
        "id": "dviULa4bEr2n",
        "colab": {
          "base_uri": "https://localhost:8080/",
          "height": 73
        },
        "outputId": "576f6357-9ef8-4e3d-d5a5-cc0d66d011ba"
      },
      "execution_count": 2,
      "outputs": [
        {
          "output_type": "display_data",
          "data": {
            "text/plain": [
              "<IPython.core.display.HTML object>"
            ],
            "text/html": [
              "\n",
              "     <input type=\"file\" id=\"files-9abb3cc8-53f9-4f4c-a452-1f3b9c1a0fc0\" name=\"files[]\" multiple disabled\n",
              "        style=\"border:none\" />\n",
              "     <output id=\"result-9abb3cc8-53f9-4f4c-a452-1f3b9c1a0fc0\">\n",
              "      Upload widget is only available when the cell has been executed in the\n",
              "      current browser session. Please rerun this cell to enable.\n",
              "      </output>\n",
              "      <script>// Copyright 2017 Google LLC\n",
              "//\n",
              "// Licensed under the Apache License, Version 2.0 (the \"License\");\n",
              "// you may not use this file except in compliance with the License.\n",
              "// You may obtain a copy of the License at\n",
              "//\n",
              "//      http://www.apache.org/licenses/LICENSE-2.0\n",
              "//\n",
              "// Unless required by applicable law or agreed to in writing, software\n",
              "// distributed under the License is distributed on an \"AS IS\" BASIS,\n",
              "// WITHOUT WARRANTIES OR CONDITIONS OF ANY KIND, either express or implied.\n",
              "// See the License for the specific language governing permissions and\n",
              "// limitations under the License.\n",
              "\n",
              "/**\n",
              " * @fileoverview Helpers for google.colab Python module.\n",
              " */\n",
              "(function(scope) {\n",
              "function span(text, styleAttributes = {}) {\n",
              "  const element = document.createElement('span');\n",
              "  element.textContent = text;\n",
              "  for (const key of Object.keys(styleAttributes)) {\n",
              "    element.style[key] = styleAttributes[key];\n",
              "  }\n",
              "  return element;\n",
              "}\n",
              "\n",
              "// Max number of bytes which will be uploaded at a time.\n",
              "const MAX_PAYLOAD_SIZE = 100 * 1024;\n",
              "\n",
              "function _uploadFiles(inputId, outputId) {\n",
              "  const steps = uploadFilesStep(inputId, outputId);\n",
              "  const outputElement = document.getElementById(outputId);\n",
              "  // Cache steps on the outputElement to make it available for the next call\n",
              "  // to uploadFilesContinue from Python.\n",
              "  outputElement.steps = steps;\n",
              "\n",
              "  return _uploadFilesContinue(outputId);\n",
              "}\n",
              "\n",
              "// This is roughly an async generator (not supported in the browser yet),\n",
              "// where there are multiple asynchronous steps and the Python side is going\n",
              "// to poll for completion of each step.\n",
              "// This uses a Promise to block the python side on completion of each step,\n",
              "// then passes the result of the previous step as the input to the next step.\n",
              "function _uploadFilesContinue(outputId) {\n",
              "  const outputElement = document.getElementById(outputId);\n",
              "  const steps = outputElement.steps;\n",
              "\n",
              "  const next = steps.next(outputElement.lastPromiseValue);\n",
              "  return Promise.resolve(next.value.promise).then((value) => {\n",
              "    // Cache the last promise value to make it available to the next\n",
              "    // step of the generator.\n",
              "    outputElement.lastPromiseValue = value;\n",
              "    return next.value.response;\n",
              "  });\n",
              "}\n",
              "\n",
              "/**\n",
              " * Generator function which is called between each async step of the upload\n",
              " * process.\n",
              " * @param {string} inputId Element ID of the input file picker element.\n",
              " * @param {string} outputId Element ID of the output display.\n",
              " * @return {!Iterable<!Object>} Iterable of next steps.\n",
              " */\n",
              "function* uploadFilesStep(inputId, outputId) {\n",
              "  const inputElement = document.getElementById(inputId);\n",
              "  inputElement.disabled = false;\n",
              "\n",
              "  const outputElement = document.getElementById(outputId);\n",
              "  outputElement.innerHTML = '';\n",
              "\n",
              "  const pickedPromise = new Promise((resolve) => {\n",
              "    inputElement.addEventListener('change', (e) => {\n",
              "      resolve(e.target.files);\n",
              "    });\n",
              "  });\n",
              "\n",
              "  const cancel = document.createElement('button');\n",
              "  inputElement.parentElement.appendChild(cancel);\n",
              "  cancel.textContent = 'Cancel upload';\n",
              "  const cancelPromise = new Promise((resolve) => {\n",
              "    cancel.onclick = () => {\n",
              "      resolve(null);\n",
              "    };\n",
              "  });\n",
              "\n",
              "  // Wait for the user to pick the files.\n",
              "  const files = yield {\n",
              "    promise: Promise.race([pickedPromise, cancelPromise]),\n",
              "    response: {\n",
              "      action: 'starting',\n",
              "    }\n",
              "  };\n",
              "\n",
              "  cancel.remove();\n",
              "\n",
              "  // Disable the input element since further picks are not allowed.\n",
              "  inputElement.disabled = true;\n",
              "\n",
              "  if (!files) {\n",
              "    return {\n",
              "      response: {\n",
              "        action: 'complete',\n",
              "      }\n",
              "    };\n",
              "  }\n",
              "\n",
              "  for (const file of files) {\n",
              "    const li = document.createElement('li');\n",
              "    li.append(span(file.name, {fontWeight: 'bold'}));\n",
              "    li.append(span(\n",
              "        `(${file.type || 'n/a'}) - ${file.size} bytes, ` +\n",
              "        `last modified: ${\n",
              "            file.lastModifiedDate ? file.lastModifiedDate.toLocaleDateString() :\n",
              "                                    'n/a'} - `));\n",
              "    const percent = span('0% done');\n",
              "    li.appendChild(percent);\n",
              "\n",
              "    outputElement.appendChild(li);\n",
              "\n",
              "    const fileDataPromise = new Promise((resolve) => {\n",
              "      const reader = new FileReader();\n",
              "      reader.onload = (e) => {\n",
              "        resolve(e.target.result);\n",
              "      };\n",
              "      reader.readAsArrayBuffer(file);\n",
              "    });\n",
              "    // Wait for the data to be ready.\n",
              "    let fileData = yield {\n",
              "      promise: fileDataPromise,\n",
              "      response: {\n",
              "        action: 'continue',\n",
              "      }\n",
              "    };\n",
              "\n",
              "    // Use a chunked sending to avoid message size limits. See b/62115660.\n",
              "    let position = 0;\n",
              "    do {\n",
              "      const length = Math.min(fileData.byteLength - position, MAX_PAYLOAD_SIZE);\n",
              "      const chunk = new Uint8Array(fileData, position, length);\n",
              "      position += length;\n",
              "\n",
              "      const base64 = btoa(String.fromCharCode.apply(null, chunk));\n",
              "      yield {\n",
              "        response: {\n",
              "          action: 'append',\n",
              "          file: file.name,\n",
              "          data: base64,\n",
              "        },\n",
              "      };\n",
              "\n",
              "      let percentDone = fileData.byteLength === 0 ?\n",
              "          100 :\n",
              "          Math.round((position / fileData.byteLength) * 100);\n",
              "      percent.textContent = `${percentDone}% done`;\n",
              "\n",
              "    } while (position < fileData.byteLength);\n",
              "  }\n",
              "\n",
              "  // All done.\n",
              "  yield {\n",
              "    response: {\n",
              "      action: 'complete',\n",
              "    }\n",
              "  };\n",
              "}\n",
              "\n",
              "scope.google = scope.google || {};\n",
              "scope.google.colab = scope.google.colab || {};\n",
              "scope.google.colab._files = {\n",
              "  _uploadFiles,\n",
              "  _uploadFilesContinue,\n",
              "};\n",
              "})(self);\n",
              "</script> "
            ]
          },
          "metadata": {}
        },
        {
          "output_type": "stream",
          "name": "stdout",
          "text": [
            "Saving GSS.csv to GSS.csv\n"
          ]
        }
      ]
    },
    {
      "cell_type": "code",
      "source": [
        "df = pd.read_csv('GSS.csv')"
      ],
      "metadata": {
        "id": "ooJbAaj0tTKj"
      },
      "execution_count": 3,
      "outputs": []
    },
    {
      "cell_type": "code",
      "source": [
        "immigration_cols = [\"undocwrk\", \"undoccol\", \"undockid\", \"immcrime\", \"immjobs\"] #Only focus on the immigration-related variables\n",
        "df[immigration_cols] = df[immigration_cols].map(lambda x: str(x).strip().lower()) #strip whitespace, lowercase everything\n",
        "inapplicable_vals = [\".i: inapplicable\", \"i: inapplicable\", \".y: not available in this year\"] #Define values that represent missing/inapplicable answers\n",
        "df_cleaned = df[df[immigration_cols].apply(lambda row: (~row.isin(inapplicable_vals)).sum(), axis=1) >= 3].copy() #Keep only rows where at least 3 of the 5 immigration questions were answered\n",
        "\n"
      ],
      "metadata": {
        "id": "XXL5xWmsFqqX"
      },
      "execution_count": 49,
      "outputs": []
    },
    {
      "cell_type": "code",
      "source": [
        "values_kids = df_cleaned[\"undockid\"].unique()\n",
        "values_edu = df_cleaned[\"undoccol\"].unique()\n",
        "values_work = df_cleaned[\"undocwrk\"].unique()\n",
        "\n",
        "print(values_kids)\n",
        "print(values_edu)\n",
        "print(values_work)"
      ],
      "metadata": {
        "colab": {
          "base_uri": "https://localhost:8080/"
        },
        "id": "Iq3m1vuCJq4m",
        "outputId": "d12086c2-d7ab-4c6b-a96b-0bbcdc3f02c5"
      },
      "execution_count": 50,
      "outputs": [
        {
          "output_type": "stream",
          "name": "stdout",
          "text": [
            "['.i:  inapplicable' 'no, not qualify' 'yes, qualify'\n",
            " '.d:  do not know/cannot choose' '.n:  no answer'\n",
            " '.y:  not available in this year']\n",
            "['.i:  inapplicable' 'no, not entitled' 'yes, entitled'\n",
            " '.d:  do not know/cannot choose' '.n:  no answer'\n",
            " '.y:  not available in this year']\n",
            "['.i:  inapplicable' 'no, not entitled' 'yes, entitled'\n",
            " '.d:  do not know/cannot choose' '.n:  no answer'\n",
            " '.y:  not available in this year']\n"
          ]
        }
      ]
    },
    {
      "cell_type": "code",
      "source": [
        "df_cleaned.describe()"
      ],
      "metadata": {
        "colab": {
          "base_uri": "https://localhost:8080/",
          "height": 300
        },
        "id": "fT2qsxp8aaBE",
        "outputId": "5d974c03-93c4-4856-9930-78d6bb4db6d2"
      },
      "execution_count": 51,
      "outputs": [
        {
          "output_type": "execute_result",
          "data": {
            "text/plain": [
              "               year           id_\n",
              "count  72390.000000  72390.000000\n",
              "mean    1997.715541   1241.796395\n",
              "std       15.109995    912.273245\n",
              "min     1972.000000      1.000000\n",
              "25%     1985.000000    534.000000\n",
              "50%     1998.000000   1083.000000\n",
              "75%     2010.000000   1722.000000\n",
              "max     2022.000000   4510.000000"
            ],
            "text/html": [
              "\n",
              "  <div id=\"df-3494f8bf-b3fe-41a5-af7b-880b644a0766\" class=\"colab-df-container\">\n",
              "    <div>\n",
              "<style scoped>\n",
              "    .dataframe tbody tr th:only-of-type {\n",
              "        vertical-align: middle;\n",
              "    }\n",
              "\n",
              "    .dataframe tbody tr th {\n",
              "        vertical-align: top;\n",
              "    }\n",
              "\n",
              "    .dataframe thead th {\n",
              "        text-align: right;\n",
              "    }\n",
              "</style>\n",
              "<table border=\"1\" class=\"dataframe\">\n",
              "  <thead>\n",
              "    <tr style=\"text-align: right;\">\n",
              "      <th></th>\n",
              "      <th>year</th>\n",
              "      <th>id_</th>\n",
              "    </tr>\n",
              "  </thead>\n",
              "  <tbody>\n",
              "    <tr>\n",
              "      <th>count</th>\n",
              "      <td>72390.000000</td>\n",
              "      <td>72390.000000</td>\n",
              "    </tr>\n",
              "    <tr>\n",
              "      <th>mean</th>\n",
              "      <td>1997.715541</td>\n",
              "      <td>1241.796395</td>\n",
              "    </tr>\n",
              "    <tr>\n",
              "      <th>std</th>\n",
              "      <td>15.109995</td>\n",
              "      <td>912.273245</td>\n",
              "    </tr>\n",
              "    <tr>\n",
              "      <th>min</th>\n",
              "      <td>1972.000000</td>\n",
              "      <td>1.000000</td>\n",
              "    </tr>\n",
              "    <tr>\n",
              "      <th>25%</th>\n",
              "      <td>1985.000000</td>\n",
              "      <td>534.000000</td>\n",
              "    </tr>\n",
              "    <tr>\n",
              "      <th>50%</th>\n",
              "      <td>1998.000000</td>\n",
              "      <td>1083.000000</td>\n",
              "    </tr>\n",
              "    <tr>\n",
              "      <th>75%</th>\n",
              "      <td>2010.000000</td>\n",
              "      <td>1722.000000</td>\n",
              "    </tr>\n",
              "    <tr>\n",
              "      <th>max</th>\n",
              "      <td>2022.000000</td>\n",
              "      <td>4510.000000</td>\n",
              "    </tr>\n",
              "  </tbody>\n",
              "</table>\n",
              "</div>\n",
              "    <div class=\"colab-df-buttons\">\n",
              "\n",
              "  <div class=\"colab-df-container\">\n",
              "    <button class=\"colab-df-convert\" onclick=\"convertToInteractive('df-3494f8bf-b3fe-41a5-af7b-880b644a0766')\"\n",
              "            title=\"Convert this dataframe to an interactive table.\"\n",
              "            style=\"display:none;\">\n",
              "\n",
              "  <svg xmlns=\"http://www.w3.org/2000/svg\" height=\"24px\" viewBox=\"0 -960 960 960\">\n",
              "    <path d=\"M120-120v-720h720v720H120Zm60-500h600v-160H180v160Zm220 220h160v-160H400v160Zm0 220h160v-160H400v160ZM180-400h160v-160H180v160Zm440 0h160v-160H620v160ZM180-180h160v-160H180v160Zm440 0h160v-160H620v160Z\"/>\n",
              "  </svg>\n",
              "    </button>\n",
              "\n",
              "  <style>\n",
              "    .colab-df-container {\n",
              "      display:flex;\n",
              "      gap: 12px;\n",
              "    }\n",
              "\n",
              "    .colab-df-convert {\n",
              "      background-color: #E8F0FE;\n",
              "      border: none;\n",
              "      border-radius: 50%;\n",
              "      cursor: pointer;\n",
              "      display: none;\n",
              "      fill: #1967D2;\n",
              "      height: 32px;\n",
              "      padding: 0 0 0 0;\n",
              "      width: 32px;\n",
              "    }\n",
              "\n",
              "    .colab-df-convert:hover {\n",
              "      background-color: #E2EBFA;\n",
              "      box-shadow: 0px 1px 2px rgba(60, 64, 67, 0.3), 0px 1px 3px 1px rgba(60, 64, 67, 0.15);\n",
              "      fill: #174EA6;\n",
              "    }\n",
              "\n",
              "    .colab-df-buttons div {\n",
              "      margin-bottom: 4px;\n",
              "    }\n",
              "\n",
              "    [theme=dark] .colab-df-convert {\n",
              "      background-color: #3B4455;\n",
              "      fill: #D2E3FC;\n",
              "    }\n",
              "\n",
              "    [theme=dark] .colab-df-convert:hover {\n",
              "      background-color: #434B5C;\n",
              "      box-shadow: 0px 1px 3px 1px rgba(0, 0, 0, 0.15);\n",
              "      filter: drop-shadow(0px 1px 2px rgba(0, 0, 0, 0.3));\n",
              "      fill: #FFFFFF;\n",
              "    }\n",
              "  </style>\n",
              "\n",
              "    <script>\n",
              "      const buttonEl =\n",
              "        document.querySelector('#df-3494f8bf-b3fe-41a5-af7b-880b644a0766 button.colab-df-convert');\n",
              "      buttonEl.style.display =\n",
              "        google.colab.kernel.accessAllowed ? 'block' : 'none';\n",
              "\n",
              "      async function convertToInteractive(key) {\n",
              "        const element = document.querySelector('#df-3494f8bf-b3fe-41a5-af7b-880b644a0766');\n",
              "        const dataTable =\n",
              "          await google.colab.kernel.invokeFunction('convertToInteractive',\n",
              "                                                    [key], {});\n",
              "        if (!dataTable) return;\n",
              "\n",
              "        const docLinkHtml = 'Like what you see? Visit the ' +\n",
              "          '<a target=\"_blank\" href=https://colab.research.google.com/notebooks/data_table.ipynb>data table notebook</a>'\n",
              "          + ' to learn more about interactive tables.';\n",
              "        element.innerHTML = '';\n",
              "        dataTable['output_type'] = 'display_data';\n",
              "        await google.colab.output.renderOutput(dataTable, element);\n",
              "        const docLink = document.createElement('div');\n",
              "        docLink.innerHTML = docLinkHtml;\n",
              "        element.appendChild(docLink);\n",
              "      }\n",
              "    </script>\n",
              "  </div>\n",
              "\n",
              "\n",
              "    <div id=\"df-6b99cf40-759e-4ac3-9bf0-94568905cd70\">\n",
              "      <button class=\"colab-df-quickchart\" onclick=\"quickchart('df-6b99cf40-759e-4ac3-9bf0-94568905cd70')\"\n",
              "                title=\"Suggest charts\"\n",
              "                style=\"display:none;\">\n",
              "\n",
              "<svg xmlns=\"http://www.w3.org/2000/svg\" height=\"24px\"viewBox=\"0 0 24 24\"\n",
              "     width=\"24px\">\n",
              "    <g>\n",
              "        <path d=\"M19 3H5c-1.1 0-2 .9-2 2v14c0 1.1.9 2 2 2h14c1.1 0 2-.9 2-2V5c0-1.1-.9-2-2-2zM9 17H7v-7h2v7zm4 0h-2V7h2v10zm4 0h-2v-4h2v4z\"/>\n",
              "    </g>\n",
              "</svg>\n",
              "      </button>\n",
              "\n",
              "<style>\n",
              "  .colab-df-quickchart {\n",
              "      --bg-color: #E8F0FE;\n",
              "      --fill-color: #1967D2;\n",
              "      --hover-bg-color: #E2EBFA;\n",
              "      --hover-fill-color: #174EA6;\n",
              "      --disabled-fill-color: #AAA;\n",
              "      --disabled-bg-color: #DDD;\n",
              "  }\n",
              "\n",
              "  [theme=dark] .colab-df-quickchart {\n",
              "      --bg-color: #3B4455;\n",
              "      --fill-color: #D2E3FC;\n",
              "      --hover-bg-color: #434B5C;\n",
              "      --hover-fill-color: #FFFFFF;\n",
              "      --disabled-bg-color: #3B4455;\n",
              "      --disabled-fill-color: #666;\n",
              "  }\n",
              "\n",
              "  .colab-df-quickchart {\n",
              "    background-color: var(--bg-color);\n",
              "    border: none;\n",
              "    border-radius: 50%;\n",
              "    cursor: pointer;\n",
              "    display: none;\n",
              "    fill: var(--fill-color);\n",
              "    height: 32px;\n",
              "    padding: 0;\n",
              "    width: 32px;\n",
              "  }\n",
              "\n",
              "  .colab-df-quickchart:hover {\n",
              "    background-color: var(--hover-bg-color);\n",
              "    box-shadow: 0 1px 2px rgba(60, 64, 67, 0.3), 0 1px 3px 1px rgba(60, 64, 67, 0.15);\n",
              "    fill: var(--button-hover-fill-color);\n",
              "  }\n",
              "\n",
              "  .colab-df-quickchart-complete:disabled,\n",
              "  .colab-df-quickchart-complete:disabled:hover {\n",
              "    background-color: var(--disabled-bg-color);\n",
              "    fill: var(--disabled-fill-color);\n",
              "    box-shadow: none;\n",
              "  }\n",
              "\n",
              "  .colab-df-spinner {\n",
              "    border: 2px solid var(--fill-color);\n",
              "    border-color: transparent;\n",
              "    border-bottom-color: var(--fill-color);\n",
              "    animation:\n",
              "      spin 1s steps(1) infinite;\n",
              "  }\n",
              "\n",
              "  @keyframes spin {\n",
              "    0% {\n",
              "      border-color: transparent;\n",
              "      border-bottom-color: var(--fill-color);\n",
              "      border-left-color: var(--fill-color);\n",
              "    }\n",
              "    20% {\n",
              "      border-color: transparent;\n",
              "      border-left-color: var(--fill-color);\n",
              "      border-top-color: var(--fill-color);\n",
              "    }\n",
              "    30% {\n",
              "      border-color: transparent;\n",
              "      border-left-color: var(--fill-color);\n",
              "      border-top-color: var(--fill-color);\n",
              "      border-right-color: var(--fill-color);\n",
              "    }\n",
              "    40% {\n",
              "      border-color: transparent;\n",
              "      border-right-color: var(--fill-color);\n",
              "      border-top-color: var(--fill-color);\n",
              "    }\n",
              "    60% {\n",
              "      border-color: transparent;\n",
              "      border-right-color: var(--fill-color);\n",
              "    }\n",
              "    80% {\n",
              "      border-color: transparent;\n",
              "      border-right-color: var(--fill-color);\n",
              "      border-bottom-color: var(--fill-color);\n",
              "    }\n",
              "    90% {\n",
              "      border-color: transparent;\n",
              "      border-bottom-color: var(--fill-color);\n",
              "    }\n",
              "  }\n",
              "</style>\n",
              "\n",
              "      <script>\n",
              "        async function quickchart(key) {\n",
              "          const quickchartButtonEl =\n",
              "            document.querySelector('#' + key + ' button');\n",
              "          quickchartButtonEl.disabled = true;  // To prevent multiple clicks.\n",
              "          quickchartButtonEl.classList.add('colab-df-spinner');\n",
              "          try {\n",
              "            const charts = await google.colab.kernel.invokeFunction(\n",
              "                'suggestCharts', [key], {});\n",
              "          } catch (error) {\n",
              "            console.error('Error during call to suggestCharts:', error);\n",
              "          }\n",
              "          quickchartButtonEl.classList.remove('colab-df-spinner');\n",
              "          quickchartButtonEl.classList.add('colab-df-quickchart-complete');\n",
              "        }\n",
              "        (() => {\n",
              "          let quickchartButtonEl =\n",
              "            document.querySelector('#df-6b99cf40-759e-4ac3-9bf0-94568905cd70 button');\n",
              "          quickchartButtonEl.style.display =\n",
              "            google.colab.kernel.accessAllowed ? 'block' : 'none';\n",
              "        })();\n",
              "      </script>\n",
              "    </div>\n",
              "\n",
              "    </div>\n",
              "  </div>\n"
            ],
            "application/vnd.google.colaboratory.intrinsic+json": {
              "type": "dataframe",
              "summary": "{\n  \"name\": \"df_cleaned\",\n  \"rows\": 8,\n  \"fields\": [\n    {\n      \"column\": \"year\",\n      \"properties\": {\n        \"dtype\": \"number\",\n        \"std\": 24997.2783116797,\n        \"min\": 15.109995341766783,\n        \"max\": 72390.0,\n        \"num_unique_values\": 8,\n        \"samples\": [\n          1997.7155408205554,\n          1998.0,\n          72390.0\n        ],\n        \"semantic_type\": \"\",\n        \"description\": \"\"\n      }\n    },\n    {\n      \"column\": \"id_\",\n      \"properties\": {\n        \"dtype\": \"number\",\n        \"std\": 25124.97901006532,\n        \"min\": 1.0,\n        \"max\": 72390.0,\n        \"num_unique_values\": 8,\n        \"samples\": [\n          1241.7963945296312,\n          1083.0,\n          72390.0\n        ],\n        \"semantic_type\": \"\",\n        \"description\": \"\"\n      }\n    }\n  ]\n}"
            }
          },
          "metadata": {},
          "execution_count": 51
        }
      ]
    },
    {
      "cell_type": "code",
      "source": [
        "#Standardize responses for undocwrk and undoccol\n",
        "for col in ['undocwrk', 'undoccol']:\n",
        "    df_cleaned[col] = df_cleaned[col].replace({\n",
        "        'yes, entitled': 'Yes',\n",
        "        'no, not entitled': 'No',\n",
        "        '.d:  do not know/cannot choose': \"Don't Know\"\n",
        "    })\n",
        "\n",
        "#Standardize responses for undockid\n",
        "df_cleaned['undockid'] = df_cleaned['undockid'].replace({\n",
        "    'yes, qualify': 'Yes',\n",
        "    'no, not qualify': 'No',\n",
        "    '.d:  do not know/cannot choose': \"Don't Know\"\n",
        "})\n",
        "\n",
        "#Define consistent response order\n",
        "response_order = [\"Yes\", \"No\", \"Don't Know\"]\n",
        "\n",
        "#Count and reindex\n",
        "#df_cleaned['undocwrk'].value_counts(): Counts how many people gave each unique response to the undocwrk\n",
        "#reindex reorders the results to match the way I want it to be presented on the graph\n",
        "work = df_cleaned['undocwrk'].value_counts().reindex(response_order, fill_value=0)\n",
        "college = df_cleaned['undoccol'].value_counts().reindex(response_order, fill_value=0)\n",
        "citizen = df_cleaned['undockid'].value_counts().reindex(response_order, fill_value=0)\n",
        "\n",
        "#Combine into DataFrame with renamed columns\n",
        "stacked_data = pd.DataFrame({\n",
        "    'Should undocumented immigrants\\nreceive work permits?': work,\n",
        "    'Should undocumented immigrants\\nhave access to public universities?': college,\n",
        "    'Should children of undocumented immigrants\\nborn in the U.S. qualify for citizenship?': citizen\n",
        "})\n",
        "\n",
        "#Plotting code\n",
        "stacked_data.plot(kind='bar', stacked=True, figsize=(10, 6), colormap='viridis')\n",
        "plt.title(\"Comparison of Immigration-Related Opinions\")\n",
        "plt.ylabel(\"Count\")\n",
        "plt.xlabel(\"\")\n",
        "plt.xticks(rotation=0)\n",
        "plt.legend(title=\"Survey Question\", fontsize=8, loc='upper right')\n",
        "plt.tight_layout()\n",
        "plt.show()\n"
      ],
      "metadata": {
        "colab": {
          "base_uri": "https://localhost:8080/",
          "height": 607
        },
        "id": "IPkWqIQMmeWO",
        "outputId": "d6dbb6a8-b442-4253-eccb-06080524efc6"
      },
      "execution_count": 59,
      "outputs": [
        {
          "output_type": "display_data",
          "data": {
            "text/plain": [
              "<Figure size 1000x600 with 1 Axes>"
            ],
            "image/png": "[encoded data removed]"
          },
          "metadata": {}
        }
      ]
    },
    {
      "cell_type": "code",
      "source": [
        "print(stacked_data)"
      ],
      "metadata": {
        "colab": {
          "base_uri": "https://localhost:8080/"
        },
        "id": "18ro08-Ez86b",
        "outputId": "c0bee6d0-8744-42a5-ab97-499465bfbd4a"
      },
      "execution_count": 60,
      "outputs": [
        {
          "output_type": "stream",
          "name": "stdout",
          "text": [
            "            Should undocumented immigrants\\nreceive work permits?  \\\n",
            "Yes                                                       192       \n",
            "No                                                       1210       \n",
            "Don't Know                                                 63       \n",
            "\n",
            "            Should undocumented immigrants\\nhave access to public universities?  \\\n",
            "Yes                                                       465                     \n",
            "No                                                        942                     \n",
            "Don't Know                                                 58                     \n",
            "\n",
            "            Should children of undocumented immigrants\\nborn in the U.S. qualify for citizenship?  \n",
            "Yes                                                       706                                      \n",
            "No                                                        659                                      \n",
            "Don't Know                                                 88                                      \n"
          ]
        }
      ]
    },
    {
      "cell_type": "markdown",
      "source": [
        "This chart compares public opinion on three immigration-related questions. The majority of respondents answered “No” across all three issues, especially regarding work permits and access to public universities. However, a significant number supported citizenship for children born in the U.S. to undocumented immigrants.\n"
      ],
      "metadata": {
        "id": "YZxiBFm_GRGx"
      }
    },
    {
      "cell_type": "code",
      "source": [
        "#Define unwanted values\n",
        "unwanted_val = [\".i:  inapplicable\", \".y:  Not available in this year\", \".n:  No answer\", \".s:  Skipped on Web\", \".d:  Do not Know/Cannot Choose\"]\n",
        "\n",
        "#Remove unwanted responses\n",
        "clean_crime = df[~df[\"immcrime\"].isin(unwanted_val)]\n",
        "\n",
        "# Get value counts of remaining responses\n",
        "immcrime_counts = clean_crime[\"immcrime\"].value_counts()\n",
        "\n",
        "#For loop for others category",
        "threshold = 0.05  # anything less than 5%\n",
        "total = immcrime_counts.sum()\n",
        "small_counts = immcrime_counts[immcrime_counts / total < threshold]\n",
        "large_counts = immcrime_counts[immcrime_counts / total >= threshold]\n",
        "\n",
        "# Add 'Other' if needed\n",
        "if not small_counts.empty:\n",
        "    large_counts[\"Other\"] = small_counts.sum()\n",
        "\n",
        "#Create pie chart\n",
        "\n",
        "plt.pie(large_counts, labels=large_counts.index.str.title(), autopct='%1.1f%%', startangle=90, pctdistance=0.83)\n",
        "\n",

        "plt.title(\"Distribution of Responses for Immigrants & Crime\")\n",

        "plt.show()\n"
      ],
      "metadata": {
        "colab": {
          "base_uri": "https://localhost:8080/",
          "height": 428
        },
        "id": "l93jhzB4-ixw",
        "outputId": "cfc5b995-189c-4a08-a640-7067a3e5effb"
      },
      "execution_count": 68,
      "outputs": [
        {
          "output_type": "display_data",
          "data": {
            "text/plain": [
              "<Figure size 640x480 with 1 Axes>"
            ],
            "image/png": "[encoded data removed]"
          },
          "metadata": {}
        }
      ]
    },
    {
      "cell_type": "markdown",
      "source": [
        "Most respondents disagreed (34.2%) or neither agreed nor disagreed (28.4%) with the idea that immigrants increase crime rates. Only 5.4% strongly agreed, indicating doubt in the links between crime and immigration.\n"
      ],
      "metadata": {
        "id": "4VxL9zPVxpFY"
      }
    },
    {
      "cell_type": "code",
      "source": [
        "unwanted_val = [\".i:  inapplicable\", \".y:  Not available in this year\", \".n:  No answer\", \".s:  Skipped on Web\", \".d:  Do not Know/Cannot Choose\"]\n",
        "clean_jobs = df[~df[\"immjobs\"].isin(unwanted_val)].copy()\n",
        "clean_jobs[\"immjobs\"]= clean_jobs[\"immjobs\"].replace(\"AGREE STRONGLY\", \"AGREE\")\n",
        "clean_jobs[\"immjobs\"] = clean_jobs[\"immjobs\"].replace(\"DISAGREE STRONGLY\", \"DISAGREE\")\n",
        "\n",
        "belief_counts = clean_jobs.groupby([\"year\", \"immjobs\"]).size().unstack()\n",
        "\n",
        "plt.figure(figsize=(10, 6))\n",
        "belief_counts.plot(kind=\"bar\", stacked=False, colormap=\"viridis\", width=0.7)\n",
        "plt.gca().spines['top'].set_visible(False)\n",
        "plt.gca().spines['right'].set_visible(False)\n",
        "\n",
        "#Plotting\n",
        "plt.title(\"Do Immigrants take jobs away from Americans?\")\n",
        "plt.xlabel(\"Year\")\n",
        "plt.ylabel(\"Number of Responses\")\n",
        "plt.legend(title=\"\")\n",
        "plt.xticks(rotation=0)  # Keep year labels readable\n",
        "plt.show()\n"
      ],
      "metadata": {
        "colab": {
          "base_uri": "https://localhost:8080/",
          "height": 489
        },
        "id": "UVu0yi3RguWu",
        "outputId": "dcda0d4d-be42-4eea-af11-9df9803805a1"
      },
      "execution_count": 70,
      "outputs": [
        {
          "output_type": "display_data",
          "data": {
            "text/plain": [
              "<Figure size 1000x600 with 0 Axes>"
            ]
          },
          "metadata": {}
        },
        {
          "output_type": "display_data",
          "data": {
            "text/plain": [
              "<Figure size 640x480 with 1 Axes>"
            ],
            "image/png": "[encoded data removed]"
          },
          "metadata": {}
        }
      ]
    },
    {
      "cell_type": "markdown",
      "source": [
        "Over time, public concern about immigrants taking American jobs has decreased. By 2022, disagreement rose strongly, suggesting a shift in public perception toward viewing immigrants as less of a threat to the job market.\n",
        "\n"
      ],
      "metadata": {
        "id": "QUvz331Ix2hq"
      }
    },
    {
      "cell_type": "markdown",
      "source": [
        "Describing my findings:\n",
        "\n",
        "The topic of immigration has recently become a central issue in U.S. politics. My analysis uses General Social Survey (GSS) data to explore how public opinion on immigration has evolved over time, focusing on themes like crime, education, employment, and legal status.\n",
        "\n",
        "The first visualization compares responses to three questions about immigration policy. A majority of respondents opposed granting work permits or public university access to undocumented immigrants, though there was relatively more support for allowing their U.S.-born children to retain citizenship.\n",
        "\n",
        "In the second visualization, opinions on the claim that \"immigrants increase crime rates\" were mixed, but the largest group of respondents disagreed. Only a small portion strongly agreed, which suggests that the stereotype linking immigrants to crime lacks strong public endorsement, even with the political rhetoric suggesting otherwise.\n",
        "\n",
        "The third visualization tracks responses from 1996 to 2022 on whether immigrants \"take jobs away from Americans.\" Over time, disagreement has grown significantly, especially in 2022 as it became the dominant response. This shift implies that economic concerns around immigration may be diminishing, which possibly reflects a changing economy and greater public awareness of the value immigrants bring to the workforce.\n",
        "\n",
        "Contrary to my expectations, the data indicates more accepting views on immigration. While skepticism remains in areas such as legal status and access to benefits, responses related to crime and employment suggest a shift towards openness and reduced concern over perceived threats."
      ],
      "metadata": {
        "id": "o_O2K4afyeTf"
      }
    },
    {
      "cell_type": "code",
      "source": [],
      "metadata": {
        "id": "SqzIkah0hmJa"
      },
      "execution_count": null,
      "outputs": []
    }
  ],
  "metadata": {
    "language_info": {
      "name": "python"
    },
    "colab": {
      "provenance": [],
      "include_colab_link": true
    },
    "kernelspec": {
      "name": "python3",
      "display_name": "Python 3"
    }
  },
  "nbformat": 4,
  "nbformat_minor": 0
}
